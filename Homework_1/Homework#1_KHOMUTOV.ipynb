{
 "cells": [
  {
   "cell_type": "code",
   "execution_count": 1,
   "metadata": {},
   "outputs": [
    {
     "name": "stdout",
     "output_type": "stream",
     "text": [
      "Populating the interactive namespace from numpy and matplotlib\n"
     ]
    }
   ],
   "source": [
    "#import numpy as np\n",
    "import pandas as pd\n",
    "from sklearn.linear_model import LogisticRegression\n",
    "import matplotlib.pyplot as plt\n",
    "%matplotlib inline\n",
    "%pylab inline"
   ]
  },
  {
   "cell_type": "markdown",
   "metadata": {},
   "source": [
    "# Задание №1\n"
   ]
  },
  {
   "cell_type": "code",
   "execution_count": 2,
   "metadata": {
    "collapsed": true
   },
   "outputs": [],
   "source": [
    "TrainData = pd.read_csv('data/train_86_by_71.txt',sep=\"\\t\",header = None)"
   ]
  },
  {
   "cell_type": "code",
   "execution_count": 3,
   "metadata": {
    "scrolled": true
   },
   "outputs": [
    {
     "data": {
      "text/html": [
       "<div>\n",
       "<style>\n",
       "    .dataframe thead tr:only-child th {\n",
       "        text-align: right;\n",
       "    }\n",
       "\n",
       "    .dataframe thead th {\n",
       "        text-align: left;\n",
       "    }\n",
       "\n",
       "    .dataframe tbody tr th {\n",
       "        vertical-align: top;\n",
       "    }\n",
       "</style>\n",
       "<table border=\"1\" class=\"dataframe\">\n",
       "  <thead>\n",
       "    <tr style=\"text-align: right;\">\n",
       "      <th></th>\n",
       "      <th>0</th>\n",
       "      <th>1</th>\n",
       "      <th>2</th>\n",
       "      <th>3</th>\n",
       "      <th>4</th>\n",
       "      <th>5</th>\n",
       "      <th>6</th>\n",
       "      <th>7</th>\n",
       "      <th>8</th>\n",
       "      <th>9</th>\n",
       "      <th>...</th>\n",
       "      <th>61</th>\n",
       "      <th>62</th>\n",
       "      <th>63</th>\n",
       "      <th>64</th>\n",
       "      <th>65</th>\n",
       "      <th>66</th>\n",
       "      <th>67</th>\n",
       "      <th>68</th>\n",
       "      <th>69</th>\n",
       "      <th>70</th>\n",
       "    </tr>\n",
       "  </thead>\n",
       "  <tbody>\n",
       "    <tr>\n",
       "      <th>0</th>\n",
       "      <td>1.0</td>\n",
       "      <td>22.505</td>\n",
       "      <td>4.892</td>\n",
       "      <td>1.957</td>\n",
       "      <td>0.000</td>\n",
       "      <td>1.957</td>\n",
       "      <td>23.483</td>\n",
       "      <td>7.828</td>\n",
       "      <td>5.871</td>\n",
       "      <td>4.892</td>\n",
       "      <td>...</td>\n",
       "      <td>0.978</td>\n",
       "      <td>0.978</td>\n",
       "      <td>0.978</td>\n",
       "      <td>0.000</td>\n",
       "      <td>11.742</td>\n",
       "      <td>3.914</td>\n",
       "      <td>6.849</td>\n",
       "      <td>3.914</td>\n",
       "      <td>4.892</td>\n",
       "      <td>0.0</td>\n",
       "    </tr>\n",
       "    <tr>\n",
       "      <th>1</th>\n",
       "      <td>2.0</td>\n",
       "      <td>25.313</td>\n",
       "      <td>1.830</td>\n",
       "      <td>0.305</td>\n",
       "      <td>4.575</td>\n",
       "      <td>26.532</td>\n",
       "      <td>3.660</td>\n",
       "      <td>2.440</td>\n",
       "      <td>16.468</td>\n",
       "      <td>2.440</td>\n",
       "      <td>...</td>\n",
       "      <td>5.185</td>\n",
       "      <td>2.135</td>\n",
       "      <td>1.220</td>\n",
       "      <td>1.220</td>\n",
       "      <td>10.369</td>\n",
       "      <td>0.610</td>\n",
       "      <td>3.965</td>\n",
       "      <td>5.489</td>\n",
       "      <td>8.234</td>\n",
       "      <td>0.0</td>\n",
       "    </tr>\n",
       "    <tr>\n",
       "      <th>2</th>\n",
       "      <td>2.0</td>\n",
       "      <td>27.719</td>\n",
       "      <td>1.808</td>\n",
       "      <td>2.410</td>\n",
       "      <td>0.904</td>\n",
       "      <td>5.423</td>\n",
       "      <td>28.322</td>\n",
       "      <td>2.712</td>\n",
       "      <td>5.725</td>\n",
       "      <td>8.738</td>\n",
       "      <td>...</td>\n",
       "      <td>3.616</td>\n",
       "      <td>3.013</td>\n",
       "      <td>0.301</td>\n",
       "      <td>0.603</td>\n",
       "      <td>7.834</td>\n",
       "      <td>4.218</td>\n",
       "      <td>3.616</td>\n",
       "      <td>6.629</td>\n",
       "      <td>4.519</td>\n",
       "      <td>0.0</td>\n",
       "    </tr>\n",
       "    <tr>\n",
       "      <th>3</th>\n",
       "      <td>2.0</td>\n",
       "      <td>17.879</td>\n",
       "      <td>2.774</td>\n",
       "      <td>0.925</td>\n",
       "      <td>3.699</td>\n",
       "      <td>22.503</td>\n",
       "      <td>2.158</td>\n",
       "      <td>5.240</td>\n",
       "      <td>11.714</td>\n",
       "      <td>3.391</td>\n",
       "      <td>...</td>\n",
       "      <td>0.617</td>\n",
       "      <td>0.308</td>\n",
       "      <td>4.316</td>\n",
       "      <td>2.158</td>\n",
       "      <td>6.165</td>\n",
       "      <td>0.617</td>\n",
       "      <td>3.083</td>\n",
       "      <td>7.090</td>\n",
       "      <td>2.158</td>\n",
       "      <td>0.0</td>\n",
       "    </tr>\n",
       "    <tr>\n",
       "      <th>4</th>\n",
       "      <td>2.0</td>\n",
       "      <td>28.475</td>\n",
       "      <td>3.947</td>\n",
       "      <td>1.128</td>\n",
       "      <td>4.793</td>\n",
       "      <td>16.916</td>\n",
       "      <td>3.383</td>\n",
       "      <td>4.511</td>\n",
       "      <td>7.612</td>\n",
       "      <td>4.229</td>\n",
       "      <td>...</td>\n",
       "      <td>1.692</td>\n",
       "      <td>2.537</td>\n",
       "      <td>0.846</td>\n",
       "      <td>1.692</td>\n",
       "      <td>7.330</td>\n",
       "      <td>0.282</td>\n",
       "      <td>4.229</td>\n",
       "      <td>2.255</td>\n",
       "      <td>6.202</td>\n",
       "      <td>0.0</td>\n",
       "    </tr>\n",
       "  </tbody>\n",
       "</table>\n",
       "<p>5 rows × 71 columns</p>\n",
       "</div>"
      ],
      "text/plain": [
       "    0       1      2      3      4       5       6      7       8      9   \\\n",
       "0  1.0  22.505  4.892  1.957  0.000   1.957  23.483  7.828   5.871  4.892   \n",
       "1  2.0  25.313  1.830  0.305  4.575  26.532   3.660  2.440  16.468  2.440   \n",
       "2  2.0  27.719  1.808  2.410  0.904   5.423  28.322  2.712   5.725  8.738   \n",
       "3  2.0  17.879  2.774  0.925  3.699  22.503   2.158  5.240  11.714  3.391   \n",
       "4  2.0  28.475  3.947  1.128  4.793  16.916   3.383  4.511   7.612  4.229   \n",
       "\n",
       "  ...      61     62     63     64      65     66     67     68     69   70  \n",
       "0 ...   0.978  0.978  0.978  0.000  11.742  3.914  6.849  3.914  4.892  0.0  \n",
       "1 ...   5.185  2.135  1.220  1.220  10.369  0.610  3.965  5.489  8.234  0.0  \n",
       "2 ...   3.616  3.013  0.301  0.603   7.834  4.218  3.616  6.629  4.519  0.0  \n",
       "3 ...   0.617  0.308  4.316  2.158   6.165  0.617  3.083  7.090  2.158  0.0  \n",
       "4 ...   1.692  2.537  0.846  1.692   7.330  0.282  4.229  2.255  6.202  0.0  \n",
       "\n",
       "[5 rows x 71 columns]"
      ]
     },
     "execution_count": 3,
     "metadata": {},
     "output_type": "execute_result"
    }
   ],
   "source": [
    "TrainData.head()"
   ]
  },
  {
   "cell_type": "code",
   "execution_count": 4,
   "metadata": {
    "collapsed": true
   },
   "outputs": [],
   "source": [
    "X_train, Y_train = TrainData.iloc[:, 1:].values, TrainData.iloc[:, 0].values"
   ]
  },
  {
   "cell_type": "code",
   "execution_count": 5,
   "metadata": {},
   "outputs": [
    {
     "data": {
      "text/plain": [
       "LogisticRegression(C=1.0, class_weight=None, dual=False, fit_intercept=True,\n",
       "          intercept_scaling=1, max_iter=100, multi_class='ovr', n_jobs=1,\n",
       "          penalty='l2', random_state=None, solver='liblinear', tol=0.0001,\n",
       "          verbose=0, warm_start=False)"
      ]
     },
     "execution_count": 5,
     "metadata": {},
     "output_type": "execute_result"
    }
   ],
   "source": [
    "WorkModelLogisticRegression = LogisticRegression()\n",
    "WorkModelLogisticRegression.fit(X_train,Y_train)"
   ]
  },
  {
   "cell_type": "code",
   "execution_count": 6,
   "metadata": {
    "collapsed": true
   },
   "outputs": [],
   "source": [
    "TestData = pd.read_csv('data/valid_20_by_71.txt',sep=\"\\t\",header = None)"
   ]
  },
  {
   "cell_type": "code",
   "execution_count": 7,
   "metadata": {
    "collapsed": true
   },
   "outputs": [],
   "source": [
    "X_test, Y_test = TestData.iloc[:, 1:].values, TestData.iloc[:, 0].values"
   ]
  },
  {
   "cell_type": "markdown",
   "metadata": {},
   "source": [
    "Вычислим метрики качества алгоритма"
   ]
  },
  {
   "cell_type": "code",
   "execution_count": 8,
   "metadata": {
    "scrolled": true
   },
   "outputs": [
    {
     "name": "stdout",
     "output_type": "stream",
     "text": [
      "R2: 0.900000\n",
      "Accuracy = 0.9\n",
      "Precision / Точность =  1.0\n",
      "Recall / Полнота =  0.833333333333\n",
      "             precision    recall  f1-score   support\n",
      "\n",
      "        1.0       1.00      0.83      0.91        12\n",
      "        2.0       0.80      1.00      0.89         8\n",
      "\n",
      "avg / total       0.92      0.90      0.90        20\n",
      "\n",
      "Матрица ошибок:\n",
      "[[10  2]\n",
      " [ 0  8]]\n"
     ]
    }
   ],
   "source": [
    "from sklearn import metrics\n",
    "preds = WorkModelLogisticRegression.predict(X_test)\n",
    "print('R2: %f' % WorkModelLogisticRegression.score(X_test,Y_test))\n",
    "print('Accuracy =', metrics.accuracy_score(Y_test, preds))\n",
    "print('Precision / Точность = ',metrics.precision_score(Y_test,preds))\n",
    "print('Recall / Полнота = ',metrics.recall_score(Y_test,preds))\n",
    "print(metrics.classification_report(Y_test, preds))\n",
    "print('Матрица ошибок:')\n",
    "print(metrics.confusion_matrix(Y_test,preds))"
   ]
  },
  {
   "cell_type": "markdown",
   "metadata": {},
   "source": [
    "А теперь интегральные метрики модели"
   ]
  },
  {
   "cell_type": "code",
   "execution_count": 9,
   "metadata": {
    "collapsed": true
   },
   "outputs": [],
   "source": [
    "fpr, tpr, thresholds  = metrics.roc_curve(Y_test,WorkModelLogisticRegression.predict_proba(X_test)[:,-1],pos_label=1)"
   ]
  },
  {
   "cell_type": "code",
   "execution_count": 10,
   "metadata": {
    "scrolled": true
   },
   "outputs": [
    {
     "data": {
      "image/png": "[encoded data removed]",
      "text/plain": [
       "<matplotlib.figure.Figure at 0x2c47c6c38d0>"
      ]
     },
     "metadata": {},
     "output_type": "display_data"
    },
    {
     "name": "stdout",
     "output_type": "stream",
     "text": [
      "Площадь под графиком:  0.979166666667\n"
     ]
    }
   ],
   "source": [
    "from sklearn.metrics import roc_curve\n",
    "fpr, tpr, thresholds  = metrics.roc_curve(Y_test,WorkModelLogisticRegression.predict_proba(X_test)[:,-1],pos_label=2)\n",
    "plt.plot(fpr, tpr)\n",
    "plt.xlabel('FPR')\n",
    "plt.ylabel('TPR')\n",
    "plt.show()\n",
    "print(\"Площадь под графиком: \",metrics.auc(fpr,tpr))"
   ]
  },
  {
   "cell_type": "code",
   "execution_count": 11,
   "metadata": {
    "scrolled": true
   },
   "outputs": [
    {
     "data": {
      "image/png": "[encoded data removed]",
      "text/plain": [
       "<matplotlib.figure.Figure at 0x2c4786891d0>"
      ]
     },
     "metadata": {},
     "output_type": "display_data"
    },
    {
     "name": "stdout",
     "output_type": "stream",
     "text": [
      "Площадь под графиком:  0.871279761905\n"
     ]
    }
   ],
   "source": [
    "precision, recall, thresholds = metrics.precision_recall_curve(Y_test,WorkModelLogisticRegression.predict_proba(X_test)[:,-1],pos_label=2)\n",
    "plt.plot(recall, precision)\n",
    "plt.xlabel('recall')\n",
    "plt.ylabel('precision')\n",
    "plt.show()\n",
    "t = np.array([precision,recall])\n",
    "t.sort(axis=0)\n",
    "print('Площадь под графиком: ', metrics.auc(t[0],t[1]))"
   ]
  },
  {
   "cell_type": "markdown",
   "metadata": {},
   "source": [
    "# Задание №2"
   ]
  },
  {
   "cell_type": "code",
   "execution_count": 12,
   "metadata": {
    "collapsed": true
   },
   "outputs": [],
   "source": [
    "from sklearn import preprocessing\n",
    "#normalize the data attributes\n",
    "normalized_X = preprocessing.normalize(X_train)\n",
    "# standardize the data attributes\n",
    "standardized_X = preprocessing.scale(X_train)"
   ]
  },
  {
   "cell_type": "code",
   "execution_count": 13,
   "metadata": {},
   "outputs": [
    {
     "data": {
      "text/plain": [
       "LogisticRegression(C=1.0, class_weight=None, dual=False, fit_intercept=True,\n",
       "          intercept_scaling=1, max_iter=100, multi_class='ovr', n_jobs=1,\n",
       "          penalty='l2', random_state=None, solver='liblinear', tol=0.0001,\n",
       "          verbose=0, warm_start=False)"
      ]
     },
     "execution_count": 13,
     "metadata": {},
     "output_type": "execute_result"
    }
   ],
   "source": [
    "WorkModelLogisticRegressionNorm = LogisticRegression()\n",
    "WorkModelLogisticRegressionNorm.fit(normalized_X,Y_train)"
   ]
  },
  {
   "cell_type": "code",
   "execution_count": 14,
   "metadata": {},
   "outputs": [
    {
     "name": "stdout",
     "output_type": "stream",
     "text": [
      "             precision    recall  f1-score   support\n",
      "\n",
      "        1.0       0.83      0.83      0.83        12\n",
      "        2.0       0.75      0.75      0.75         8\n",
      "\n",
      "avg / total       0.80      0.80      0.80        20\n",
      "\n"
     ]
    }
   ],
   "source": [
    "#print('R2: %f' % WorkModelLogisticRegressionNorm.score(X_test,Y_test))\n",
    "predsNorm =  WorkModelLogisticRegressionNorm.predict(X_test)\n",
    "print(metrics.classification_report(Y_test,predsNorm))"
   ]
  },
  {
   "cell_type": "code",
   "execution_count": 15,
   "metadata": {},
   "outputs": [
    {
     "data": {
      "text/plain": [
       "LogisticRegression(C=1.0, class_weight=None, dual=False, fit_intercept=True,\n",
       "          intercept_scaling=1, max_iter=100, multi_class='ovr', n_jobs=1,\n",
       "          penalty='l2', random_state=None, solver='liblinear', tol=0.0001,\n",
       "          verbose=0, warm_start=False)"
      ]
     },
     "execution_count": 15,
     "metadata": {},
     "output_type": "execute_result"
    }
   ],
   "source": [
    "WorkModelLogisticRegressionStand = LogisticRegression()\n",
    "WorkModelLogisticRegressionStand.fit(standardized_X,Y_train)"
   ]
  },
  {
   "cell_type": "code",
   "execution_count": 16,
   "metadata": {
    "scrolled": true
   },
   "outputs": [
    {
     "name": "stdout",
     "output_type": "stream",
     "text": [
      "             precision    recall  f1-score   support\n",
      "\n",
      "        1.0       0.60      1.00      0.75        12\n",
      "        2.0       0.00      0.00      0.00         8\n",
      "\n",
      "avg / total       0.36      0.60      0.45        20\n",
      "\n"
     ]
    },
    {
     "name": "stderr",
     "output_type": "stream",
     "text": [
      "C:\\ProgramData\\Anaconda3\\lib\\site-packages\\sklearn\\metrics\\classification.py:1135: UndefinedMetricWarning: Precision and F-score are ill-defined and being set to 0.0 in labels with no predicted samples.\n",
      "  'precision', 'predicted', average, warn_for)\n"
     ]
    }
   ],
   "source": [
    "predsStand =  WorkModelLogisticRegressionStand.predict(X_test)\n",
    "print(metrics.classification_report(Y_test,predsStand))"
   ]
  },
  {
   "cell_type": "markdown",
   "metadata": {},
   "source": [
    "# Задание №3"
   ]
  },
  {
   "cell_type": "code",
   "execution_count": 17,
   "metadata": {},
   "outputs": [
    {
     "name": "stdout",
     "output_type": "stream",
     "text": [
      "C =  0.001 : score =  0.9\n",
      "C =  0.01 : score =  0.9\n",
      "C =  0.1 : score =  0.9\n",
      "C =  1 : score =  0.9\n",
      "C =  10 : score =  0.9\n",
      "C =  100 : score =  0.9\n"
     ]
    }
   ],
   "source": [
    "C = [0.001,0.01,0.1,1,10,100]\n",
    "for c in C:\n",
    "    WorkModelLogisticRegressionC = LogisticRegression(C=c)\n",
    "    WorkModelLogisticRegressionC.fit(X_train,Y_train)\n",
    "    print('C = ', c, ': score = ' ,WorkModelLogisticRegressionC.score(X_test,Y_test))"
   ]
  },
  {
   "cell_type": "code",
   "execution_count": 18,
   "metadata": {
    "scrolled": true
   },
   "outputs": [
    {
     "name": "stdout",
     "output_type": "stream",
     "text": [
      "C =  1e-10 : score =  0.6\n",
      "C =  1e-09 : score =  0.6\n",
      "C =  1e-08 : score =  0.6\n",
      "C =  1e-07 : score =  0.6\n",
      "C =  1e-06 : score =  0.6\n",
      "C =  9.999999999999999e-06 : score =  0.8\n",
      "C =  9.999999999999999e-05 : score =  0.8\n",
      "C =  0.001 : score =  0.9\n",
      "C =  0.01 : score =  0.9\n",
      "C =  0.1 : score =  0.9\n",
      "C =  1.0 : score =  0.9\n",
      "C =  10.0 : score =  0.9\n",
      "C =  100.0 : score =  0.9\n",
      "C =  1000.0 : score =  0.9\n",
      "C =  10000.0 : score =  0.9\n",
      "C =  100000.0 : score =  0.9\n",
      "C =  1000000.0 : score =  0.9\n",
      "C =  10000000.0 : score =  0.9\n",
      "C =  100000000.0 : score =  0.9\n",
      "C =  1000000000.0 : score =  0.9\n",
      "C =  10000000000.0 : score =  0.9\n"
     ]
    }
   ],
   "source": [
    "c = 10**-10\n",
    "while c < 10**11:\n",
    "    WorkModelLogisticRegressionC = LogisticRegression(C=c)\n",
    "    WorkModelLogisticRegressionC.fit(X_train,Y_train)\n",
    "    print('C = ', c, ': score = ' ,WorkModelLogisticRegressionC.score(X_test,Y_test))\n",
    "    c = c*10"
   ]
  },
  {
   "cell_type": "markdown",
   "metadata": {},
   "source": [
    "# Задание №4"
   ]
  },
  {
   "cell_type": "code",
   "execution_count": 19,
   "metadata": {},
   "outputs": [
    {
     "data": {
      "text/plain": [
       "SVC(C=1, cache_size=200, class_weight=None, coef0=0.0,\n",
       "  decision_function_shape='ovr', degree=3, gamma='auto', kernel='linear',\n",
       "  max_iter=-1, probability=False, random_state=None, shrinking=True,\n",
       "  tol=0.001, verbose=False)"
      ]
     },
     "execution_count": 19,
     "metadata": {},
     "output_type": "execute_result"
    }
   ],
   "source": [
    "from sklearn.svm import SVC \n",
    "WorkModelSVC = SVC(C = 1,kernel = 'linear') #10**-100 - Плохо\n",
    "WorkModelSVC.fit(X_train,Y_train)"
   ]
  },
  {
   "cell_type": "code",
   "execution_count": 20,
   "metadata": {},
   "outputs": [
    {
     "data": {
      "text/plain": [
       "0.90000000000000002"
      ]
     },
     "execution_count": 20,
     "metadata": {},
     "output_type": "execute_result"
    }
   ],
   "source": [
    "WorkModelSVC.score(X_test,Y_test)"
   ]
  },
  {
   "cell_type": "code",
   "execution_count": 21,
   "metadata": {
    "scrolled": true
   },
   "outputs": [
    {
     "name": "stdout",
     "output_type": "stream",
     "text": [
      "C =  1e-10 : score =  0.6\n",
      "C =  1e-09 : score =  0.6\n",
      "C =  1e-08 : score =  0.6\n",
      "C =  1e-07 : score =  0.6\n",
      "C =  1e-06 : score =  0.6\n",
      "C =  9.999999999999999e-06 : score =  0.6\n",
      "C =  9.999999999999999e-05 : score =  0.8\n",
      "C =  0.001 : score =  0.9\n",
      "C =  0.01 : score =  0.9\n",
      "C =  0.1 : score =  0.9\n",
      "C =  1.0 : score =  0.9\n",
      "C =  10.0 : score =  0.9\n",
      "C =  100.0 : score =  0.9\n",
      "C =  1000.0 : score =  0.9\n",
      "C =  10000.0 : score =  0.9\n",
      "C =  100000.0 : score =  0.9\n",
      "C =  1000000.0 : score =  0.9\n",
      "C =  10000000.0 : score =  0.9\n",
      "C =  100000000.0 : score =  0.9\n",
      "C =  1000000000.0 : score =  0.9\n",
      "C =  10000000000.0 : score =  0.9\n"
     ]
    }
   ],
   "source": [
    "# С — параметр регуляризации. \n",
    "# Он в том числе контролирует соотношение между гладкой границей и корректной классификацией рассматриваемых точек.\n",
    "\n",
    "c = 10**-10\n",
    "while c < 10**11:\n",
    "    WorkModelSVCС = SVC(C = c,kernel = 'linear')\n",
    "    WorkModelSVCС.fit(X_train,Y_train)\n",
    "    print('C = ', c, ': score = ' ,WorkModelSVCС.score(X_test,Y_test))\n",
    "    c = c*10"
   ]
  },
  {
   "cell_type": "markdown",
   "metadata": {},
   "source": [
    "# Задание №5"
   ]
  },
  {
   "cell_type": "code",
   "execution_count": 22,
   "metadata": {
    "collapsed": true
   },
   "outputs": [],
   "source": [
    "PredictData = pd.read_csv('data/test_12_by_70.txt',sep=\"\\t\",header = None)\n",
    "X_predict = PredictData.iloc[:,:].values"
   ]
  },
  {
   "cell_type": "code",
   "execution_count": 23,
   "metadata": {},
   "outputs": [
    {
     "name": "stdout",
     "output_type": "stream",
     "text": [
      "[ 2.  2.  1.  2.  2.  2.  2.  2.  2.  2.  2.  2.]\n"
     ]
    }
   ],
   "source": [
    "PredictLogistic = WorkModelLogisticRegression.predict(X_predict)\n",
    "print(PredictLogistic)"
   ]
  },
  {
   "cell_type": "code",
   "execution_count": 24,
   "metadata": {},
   "outputs": [
    {
     "name": "stdout",
     "output_type": "stream",
     "text": [
      "[ 2.  2.  2.  2.  2.  2.  2.  2.  2.  2.  1.  2.]\n"
     ]
    }
   ],
   "source": [
    "PredictSVC = WorkModelSVC.predict(X_predict)\n",
    "print(PredictSVC)"
   ]
  },
  {
   "cell_type": "code",
   "execution_count": 25,
   "metadata": {
    "collapsed": true
   },
   "outputs": [],
   "source": [
    "DataPredict = pd.DataFrame()\n",
    "DataPredict['Logistic model'] = PredictLogistic\n",
    "DataPredict['SVC model'] = PredictSVC"
   ]
  },
  {
   "cell_type": "code",
   "execution_count": 26,
   "metadata": {},
   "outputs": [
    {
     "data": {
      "text/html": [
       "<div>\n",
       "<style>\n",
       "    .dataframe thead tr:only-child th {\n",
       "        text-align: right;\n",
       "    }\n",
       "\n",
       "    .dataframe thead th {\n",
       "        text-align: left;\n",
       "    }\n",
       "\n",
       "    .dataframe tbody tr th {\n",
       "        vertical-align: top;\n",
       "    }\n",
       "</style>\n",
       "<table border=\"1\" class=\"dataframe\">\n",
       "  <thead>\n",
       "    <tr style=\"text-align: right;\">\n",
       "      <th></th>\n",
       "      <th>Logistic model</th>\n",
       "      <th>SVC model</th>\n",
       "    </tr>\n",
       "  </thead>\n",
       "  <tbody>\n",
       "    <tr>\n",
       "      <th>0</th>\n",
       "      <td>Madison</td>\n",
       "      <td>Madison</td>\n",
       "    </tr>\n",
       "    <tr>\n",
       "      <th>1</th>\n",
       "      <td>Madison</td>\n",
       "      <td>Madison</td>\n",
       "    </tr>\n",
       "    <tr>\n",
       "      <th>2</th>\n",
       "      <td>Gamilton</td>\n",
       "      <td>Madison</td>\n",
       "    </tr>\n",
       "    <tr>\n",
       "      <th>3</th>\n",
       "      <td>Madison</td>\n",
       "      <td>Madison</td>\n",
       "    </tr>\n",
       "    <tr>\n",
       "      <th>4</th>\n",
       "      <td>Madison</td>\n",
       "      <td>Madison</td>\n",
       "    </tr>\n",
       "    <tr>\n",
       "      <th>5</th>\n",
       "      <td>Madison</td>\n",
       "      <td>Madison</td>\n",
       "    </tr>\n",
       "    <tr>\n",
       "      <th>6</th>\n",
       "      <td>Madison</td>\n",
       "      <td>Madison</td>\n",
       "    </tr>\n",
       "    <tr>\n",
       "      <th>7</th>\n",
       "      <td>Madison</td>\n",
       "      <td>Madison</td>\n",
       "    </tr>\n",
       "    <tr>\n",
       "      <th>8</th>\n",
       "      <td>Madison</td>\n",
       "      <td>Madison</td>\n",
       "    </tr>\n",
       "    <tr>\n",
       "      <th>9</th>\n",
       "      <td>Madison</td>\n",
       "      <td>Madison</td>\n",
       "    </tr>\n",
       "    <tr>\n",
       "      <th>10</th>\n",
       "      <td>Madison</td>\n",
       "      <td>Gamilton</td>\n",
       "    </tr>\n",
       "    <tr>\n",
       "      <th>11</th>\n",
       "      <td>Madison</td>\n",
       "      <td>Madison</td>\n",
       "    </tr>\n",
       "  </tbody>\n",
       "</table>\n",
       "</div>"
      ],
      "text/plain": [
       "   Logistic model SVC model\n",
       "0         Madison   Madison\n",
       "1         Madison   Madison\n",
       "2        Gamilton   Madison\n",
       "3         Madison   Madison\n",
       "4         Madison   Madison\n",
       "5         Madison   Madison\n",
       "6         Madison   Madison\n",
       "7         Madison   Madison\n",
       "8         Madison   Madison\n",
       "9         Madison   Madison\n",
       "10        Madison  Gamilton\n",
       "11        Madison   Madison"
      ]
     },
     "execution_count": 26,
     "metadata": {},
     "output_type": "execute_result"
    }
   ],
   "source": [
    "DataPredict.loc[DataPredict['Logistic model'] == 1.,'Logistic model'] = 'Gamilton'\n",
    "DataPredict.loc[DataPredict['Logistic model'] == 2.,'Logistic model'] = 'Madison'\n",
    "DataPredict.loc[DataPredict['SVC model'] == 1.,'SVC model'] = 'Gamilton'\n",
    "DataPredict.loc[DataPredict['SVC model'] == 2.,'SVC model'] = 'Madison'\n",
    "DataPredict"
   ]
  }
 ],
 "metadata": {
  "kernelspec": {
   "display_name": "Python 3",
   "language": "python",
   "name": "python3"
  },
  "language_info": {
   "codemirror_mode": {
    "name": "ipython",
    "version": 3
   },
   "file_extension": ".py",
   "mimetype": "text/x-python",
   "name": "python",
   "nbconvert_exporter": "python",
   "pygments_lexer": "ipython3",
   "version": "3.6.3"
  }
 },
 "nbformat": 4,
 "nbformat_minor": 2
}
